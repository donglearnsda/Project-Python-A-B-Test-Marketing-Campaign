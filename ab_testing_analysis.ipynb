{
 "cells": [
  {
   "cell_type": "markdown",
   "id": "4a69d721",
   "metadata": {},
   "source": [
    "# 📊 A/B/C Marketing Campaign Analysis\n",
    "---\n",
    "**Objective:** Analyze the effectiveness of 3 different marketing campaigns (A, B, C) across multiple stores and customer segments over 4 weeks.\n",
    "\n",
    "**Key Questions:**\n",
    "- Are the groups balanced in terms of location, store size, and historical performance?\n",
    "- Which campaign has the highest conversion rate and revenue per customer?\n",
    "- Are differences statistically significant?\n"
   ]
  },
  {
   "cell_type": "code",
   "execution_count": null,
   "id": "2b5db88c",
   "metadata": {},
   "outputs": [],
   "source": [
    "import pandas as pd\n",
    "import numpy as np\n",
    "import matplotlib.pyplot as plt\n",
    "import seaborn as sns\n",
    "from scipy import stats\n",
    "import statsmodels.api as sm\n",
    "from statsmodels.formula.api import ols\n",
    "import warnings\n",
    "warnings.filterwarnings('ignore')\n",
    "\n",
    "sns.set(style='whitegrid')"
   ]
  },
  {
   "cell_type": "markdown",
   "id": "5ebe133b",
   "metadata": {},
   "source": [
    "## 📥 Load & Explore Data"
   ]
  },
  {
   "cell_type": "code",
   "execution_count": null,
   "id": "acc9e0c2",
   "metadata": {},
   "outputs": [],
   "source": [
    "df = pd.read_csv('ab_marketing_campaign_v2.csv')\n",
    "df.head()"
   ]
  },
  {
   "cell_type": "markdown",
   "id": "529a6ab8",
   "metadata": {},
   "source": [
    "## 📊 Group Balance Check"
   ]
  },
  {
   "cell_type": "code",
   "execution_count": null,
   "id": "88b22d2e",
   "metadata": {},
   "outputs": [],
   "source": [
    "# Distribution of stores and customers per campaign\n",
    "df['campaign_group'].value_counts()"
   ]
  },
  {
   "cell_type": "code",
   "execution_count": null,
   "id": "cba6e4d6",
   "metadata": {},
   "outputs": [],
   "source": [
    "# Distribution by store location and size\n",
    "pd.crosstab(df['campaign_group'], df['store_location'])"
   ]
  },
  {
   "cell_type": "code",
   "execution_count": null,
   "id": "340301c5",
   "metadata": {},
   "outputs": [],
   "source": [
    "pd.crosstab(df['campaign_group'], df['store_size_category'])"
   ]
  },
  {
   "cell_type": "code",
   "execution_count": null,
   "id": "6480ea0f",
   "metadata": {},
   "outputs": [],
   "source": [
    "# Distribution of baseline revenue and customer demographics\n",
    "sns.boxplot(x='campaign_group', y='avg_revenue_last_3_months', data=df)\n",
    "plt.title('Baseline Revenue by Campaign Group')\n",
    "plt.show()"
   ]
  },
  {
   "cell_type": "markdown",
   "id": "2ee6044a",
   "metadata": {},
   "source": [
    "## 🧠 Behavioral Analysis"
   ]
  },
  {
   "cell_type": "code",
   "execution_count": null,
   "id": "11a04e69",
   "metadata": {},
   "outputs": [],
   "source": [
    "# Conversion Rate per Group\n",
    "df_grouped = df.groupby('campaign_group').agg({\n",
    "    'purchase': 'mean',\n",
    "    'revenue': 'mean',\n",
    "    'order_count': 'mean',\n",
    "    'customer_id': 'nunique'\n",
    "}).rename(columns={\n",
    "    'purchase': 'conversion_rate',\n",
    "    'revenue': 'avg_revenue',\n",
    "    'order_count': 'avg_order_count',\n",
    "    'customer_id': 'unique_customers'\n",
    "})\n",
    "df_grouped"
   ]
  },
  {
   "cell_type": "code",
   "execution_count": null,
   "id": "3cbb1379",
   "metadata": {},
   "outputs": [],
   "source": [
    "# Visualize conversion rate\n",
    "sns.barplot(x=df_grouped.index, y=df_grouped['conversion_rate'])\n",
    "plt.title('Conversion Rate by Campaign Group')\n",
    "plt.show()"
   ]
  },
  {
   "cell_type": "markdown",
   "id": "393ea2ce",
   "metadata": {},
   "source": [
    "## 🧪 Statistical Testing"
   ]
  },
  {
   "cell_type": "code",
   "execution_count": null,
   "id": "d1adf6d5",
   "metadata": {},
   "outputs": [],
   "source": [
    "# ANOVA test for revenue\n",
    "anova_model = ols('revenue ~ campaign_group', data=df).fit()\n",
    "sm.stats.anova_lm(anova_model, typ=2)"
   ]
  },
  {
   "cell_type": "code",
   "execution_count": null,
   "id": "5f98b6ab",
   "metadata": {},
   "outputs": [],
   "source": [
    "# Chi-square test for purchase rate\n",
    "contingency_table = pd.crosstab(df['campaign_group'], df['purchase'])\n",
    "chi2, p, dof, expected = stats.chi2_contingency(contingency_table)\n",
    "print(f\"Chi2 = {chi2:.2f}, p = {p:.4f}\")"
   ]
  },
  {
   "cell_type": "markdown",
   "id": "d055d469",
   "metadata": {},
   "source": [
    "## 📌 Conclusion & Recommendation\n",
    "- Summarize key insights from the analysis\n",
    "- Which campaign is most effective?\n",
    "- Any recommendations for future rollouts?\n"
   ]
  }
 ],
 "metadata": {},
 "nbformat": 4,
 "nbformat_minor": 5
}
